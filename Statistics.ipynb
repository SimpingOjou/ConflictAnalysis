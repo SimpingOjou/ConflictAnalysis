{
 "cells": [
  {
   "cell_type": "markdown",
   "metadata": {},
   "source": [
    "# Script to make batch statistics of the conflict task runs"
   ]
  },
  {
   "cell_type": "code",
   "execution_count": 1,
   "metadata": {},
   "outputs": [],
   "source": [
    "from scipy.io import loadmat\n",
    "import numpy as np\n",
    "import os\n",
    "import re\n",
    "\n",
    "from Functions.Features import Features "
   ]
  },
  {
   "cell_type": "code",
   "execution_count": 2,
   "metadata": {},
   "outputs": [
    {
     "name": "stdout",
     "output_type": "stream",
     "text": [
      "['Jul_13_Run1.mat', 'Jul_13_Run2.mat']\n"
     ]
    }
   ],
   "source": [
    "# List all files in the directory\n",
    "data_dir = './Data/MatlabDatafiles'\n",
    "files = os.listdir(data_dir)\n",
    "\n",
    "# Filter out the .mat files\n",
    "mat_files = [file for file in files if file.endswith('.mat')]\n",
    "\n",
    "print(mat_files)"
   ]
  },
  {
   "cell_type": "code",
   "execution_count": 3,
   "metadata": {},
   "outputs": [
    {
     "name": "stdout",
     "output_type": "stream",
     "text": [
      "dict_keys(['Jul_13'])\n"
     ]
    }
   ],
   "source": [
    "# Load the .mat files\n",
    "dataset:dict[str, dict[int, dict]] = dict() # Create a dictionary to store the data (patient > runs > variables for each run)\n",
    "for file in mat_files:\n",
    "    filename = os.path.splitext(file)[0]\n",
    "    code = re.split(r'_run', filename, flags=re.IGNORECASE)[0]\n",
    "    run = re.split(r'_run', filename, flags=re.IGNORECASE)[1]\n",
    "\n",
    "    if code not in dataset:\n",
    "        dataset[code] = dict()\n",
    "    if run not in dataset[code]:\n",
    "        dataset[code][run] = dict()\n",
    "    \n",
    "    data = loadmat(os.path.join(data_dir, file))\n",
    "\n",
    "    dataset[code][run] = data\n",
    "\n",
    "print(dataset.keys())\n",
    "# print(next(iter(dataset.values()))[0].keys())\n",
    "# print(dataset['Jul_13'][0]['correct_nbr'])"
   ]
  },
  {
   "cell_type": "code",
   "execution_count": 4,
   "metadata": {},
   "outputs": [
    {
     "name": "stdout",
     "output_type": "stream",
     "text": [
      "Subject: Jul_13\n",
      "\tTest type 1:\n",
      "\t\tmean: 318.763 ms\n",
      "\t\tmedian: 291 ms\n",
      "\t\tstd: 107.123 ms\n",
      "\t\tmin: 68.0001 ms\n",
      "\t\tmax: 840.501 ms\n",
      "\tTest type 2:\n",
      "\t\tmean: 337.641 ms\n",
      "\t\tmedian: 326.5 ms\n",
      "\t\tstd: 76.8299 ms\n",
      "\t\tmin: 224.5 ms\n",
      "\t\tmax: 700.001 ms\n",
      "\tTest type 3:\n",
      "\t\tmean: 277.689 ms\n",
      "\t\tmedian: 277.5 ms\n",
      "\t\tstd: 84.1737 ms\n",
      "\t\tmin: 47 ms\n",
      "\t\tmax: 565.001 ms\n",
      "\tTest type 4:\n",
      "\t\tmean: 294.619 ms\n",
      "\t\tmedian: 280.5 ms\n",
      "\t\tstd: 88.3232 ms\n",
      "\t\tmin: 45.5 ms\n",
      "\t\tmax: 733.501 ms\n"
     ]
    }
   ],
   "source": [
    "ft = Features(dataset)\n",
    "ft.calculate_subject_features_by_type()\n",
    "ft.print_subject_features_by_type()"
   ]
  },
  {
   "cell_type": "code",
   "execution_count": 5,
   "metadata": {},
   "outputs": [
    {
     "name": "stdout",
     "output_type": "stream",
     "text": [
      "Subject: Jul_13\n",
      "\tRun 1:\n",
      "\t\tmean: 333.318 ms\n",
      "\t\tmedian: 311.5 ms\n",
      "\t\tstd: 107.365 ms\n",
      "\t\tmin: 45.5 ms\n",
      "\t\tmax: 840.501 ms\n",
      "\tRun 2:\n",
      "\t\tmean: 277.919 ms\n",
      "\t\tmedian: 275 ms\n",
      "\t\tstd: 61.8569 ms\n",
      "\t\tmin: 68.0001 ms\n",
      "\t\tmax: 465 ms\n"
     ]
    }
   ],
   "source": [
    "ft.calculate_single_run_features()\n",
    "ft.print_single_run_features()"
   ]
  },
  {
   "cell_type": "code",
   "execution_count": 6,
   "metadata": {},
   "outputs": [
    {
     "name": "stdout",
     "output_type": "stream",
     "text": [
      "Subject: Jul_13\n",
      "\tRun 1:\n",
      "\t\tTest type 1:\n",
      "\t\t\tmean: 345.779 ms\n",
      "\t\t\tmedian: 305.75 ms\n",
      "\t\t\tstd: 128.213 ms\n",
      "\t\t\tmin: 184.5 ms\n",
      "\t\t\tmax: 840.501 ms\n",
      "\t\tTest type 2:\n",
      "\t\t\tmean: 367.223 ms\n",
      "\t\t\tmedian: 349 ms\n",
      "\t\t\tstd: 88.6561 ms\n",
      "\t\t\tmin: 266.5 ms\n",
      "\t\t\tmax: 700.001 ms\n",
      "\t\tTest type 3:\n",
      "\t\t\tmean: 299.325 ms\n",
      "\t\t\tmedian: 302.5 ms\n",
      "\t\t\tstd: 92.8306 ms\n",
      "\t\t\tmin: 47 ms\n",
      "\t\t\tmax: 565.001 ms\n",
      "\t\tTest type 4:\n",
      "\t\t\tmean: 322.706 ms\n",
      "\t\t\tmedian: 294.5 ms\n",
      "\t\t\tstd: 104.285 ms\n",
      "\t\t\tmin: 45.5 ms\n",
      "\t\t\tmax: 733.501 ms\n",
      "\tRun 2:\n",
      "\t\tTest type 1:\n",
      "\t\t\tmean: 288.873 ms\n",
      "\t\t\tmedian: 284.5 ms\n",
      "\t\t\tstd: 65.4433 ms\n",
      "\t\t\tmin: 68.0001 ms\n",
      "\t\t\tmax: 429.5 ms\n",
      "\t\tTest type 2:\n",
      "\t\t\tmean: 305.041 ms\n",
      "\t\t\tmedian: 303.5 ms\n",
      "\t\t\tstd: 41.4601 ms\n",
      "\t\t\tmin: 224.5 ms\n",
      "\t\t\tmax: 375 ms\n",
      "\t\tTest type 3:\n",
      "\t\t\tmean: 256.053 ms\n",
      "\t\t\tmedian: 261.5 ms\n",
      "\t\t\tstd: 67.9462 ms\n",
      "\t\t\tmin: 80.0001 ms\n",
      "\t\t\tmax: 431.5 ms\n",
      "\t\tTest type 4:\n",
      "\t\t\tmean: 265.97 ms\n",
      "\t\t\tmedian: 262.25 ms\n",
      "\t\t\tstd: 55.1338 ms\n",
      "\t\t\tmin: 143 ms\n",
      "\t\t\tmax: 465 ms\n"
     ]
    }
   ],
   "source": [
    "ft.calculate_single_run_features_by_type()\n",
    "ft.print_single_run_features_by_type()"
   ]
  }
 ],
 "metadata": {
  "kernelspec": {
   "display_name": "Python 3",
   "language": "python",
   "name": "python3"
  },
  "language_info": {
   "codemirror_mode": {
    "name": "ipython",
    "version": 3
   },
   "file_extension": ".py",
   "mimetype": "text/x-python",
   "name": "python",
   "nbconvert_exporter": "python",
   "pygments_lexer": "ipython3",
   "version": "3.13.1"
  }
 },
 "nbformat": 4,
 "nbformat_minor": 2
}
