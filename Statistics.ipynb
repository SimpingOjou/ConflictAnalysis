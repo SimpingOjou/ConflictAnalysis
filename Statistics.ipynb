{
 "cells": [
  {
   "cell_type": "markdown",
   "metadata": {},
   "source": [
    "# Script to make batch statistics of the conflict task runs"
   ]
  },
  {
   "cell_type": "code",
   "execution_count": 17,
   "metadata": {},
   "outputs": [],
   "source": [
    "from scipy.io import loadmat\n",
    "import os"
   ]
  },
  {
   "cell_type": "code",
   "execution_count": 18,
   "metadata": {},
   "outputs": [
    {
     "name": "stdout",
     "output_type": "stream",
     "text": [
      "['Jul_13_Run1.mat', 'Jul_13_Run2.mat']\n"
     ]
    }
   ],
   "source": [
    "# List all files in the directory\n",
    "data_dir = './Data/MatlabDatafiles'\n",
    "files = os.listdir(data_dir)\n",
    "\n",
    "# Filter out the .mat files\n",
    "mat_files = [file for file in files if file.endswith('.mat')]\n",
    "\n",
    "print(mat_files)"
   ]
  },
  {
   "cell_type": "code",
   "execution_count": 19,
   "metadata": {},
   "outputs": [
    {
     "name": "stdout",
     "output_type": "stream",
     "text": [
      "dict_keys(['__header__', '__version__', '__globals__', 'acc_test_type', 'box_null_value', 'box_presstime', 'box_triallist', 'correct_nbr', 'hetero_rt', 'homo_rt', 'incorrect_nbr', 'mv_fing', 'mv_index', 'None', 'rt_acc', 'rt_acc_index', 'sampling', 'segmentation_points', 'segmentation_points_index', 't', 'test_type', 'vb_fing', 'vb_index', '__function_workspace__'])\n",
      "dict_keys(['__header__', '__version__', '__globals__', 'acc_test_type', 'box_null_value', 'box_presstime', 'box_triallist', 'correct_nbr', 'hetero_rt', 'homo_rt', 'incorrect_nbr', 'mv_fing', 'mv_index', 'None', 'rt_acc', 'rt_acc_index', 'sampling', 'segmentation_points', 'segmentation_points_index', 't', 'test_type', 'vb_fing', 'vb_index', '__function_workspace__'])\n"
     ]
    }
   ],
   "source": [
    "# Load the .mat files\n",
    "dataset:dict[str, list[dict]] = dict() # Create a dictionary to store the data (patient > runs > variables for each run)\n",
    "for file in mat_files:\n",
    "    data = loadmat(os.path.join(data_dir, file))\n",
    "\n",
    "    # Display the keys in the .mat file\n",
    "    print(data.keys())"
   ]
  }
 ],
 "metadata": {
  "kernelspec": {
   "display_name": "Python 3",
   "language": "python",
   "name": "python3"
  },
  "language_info": {
   "codemirror_mode": {
    "name": "ipython",
    "version": 3
   },
   "file_extension": ".py",
   "mimetype": "text/x-python",
   "name": "python",
   "nbconvert_exporter": "python",
   "pygments_lexer": "ipython3",
   "version": "3.13.1"
  }
 },
 "nbformat": 4,
 "nbformat_minor": 2
}
